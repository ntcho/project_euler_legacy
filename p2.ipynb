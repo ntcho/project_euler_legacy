{
 "metadata": {
  "language_info": {
   "codemirror_mode": {
    "name": "ipython",
    "version": 3
   },
   "file_extension": ".py",
   "mimetype": "text/x-python",
   "name": "python",
   "nbconvert_exporter": "python",
   "pygments_lexer": "ipython3",
   "version": "3.7.4"
  },
  "orig_nbformat": 2,
  "kernelspec": {
   "name": "python374jvsc74a57bd0b39ab04170b6c60b52a31d4a7ab4d204539d261a537423dd50ae2a4297d5cc93",
   "display_name": "Python 3.7.4 32-bit"
  }
 },
 "nbformat": 4,
 "nbformat_minor": 2,
 "cells": [
  {
   "source": [
    "# [Problem 2: Even Fibonacci numbers](https://projecteuler.net/problem=2)\n",
    "\n",
    "## Key Idea\n",
    "testing first few iterations for patterns (especially when thousands of iterations are estimated)"
   ],
   "cell_type": "markdown",
   "metadata": {}
  },
  {
   "source": [
    "### Initial idea\n",
    "\n",
    "O(n) complexity, using recursion.\n",
    "\n",
    "**NOTE**: Use loops over recursions for performance."
   ],
   "cell_type": "markdown",
   "metadata": {}
  },
  {
   "source": [
    "k = 4000000\n",
    "sum = 0\n",
    "\n",
    "def fibo(a, b):\n",
    "    if a % 2 is 0:\n",
    "        global sum  # NOTE: Keyword `global` is required to change the global \n",
    "                    #       variable in a function in Python.\n",
    "        sum += a\n",
    "\n",
    "    if b < k:\n",
    "        fibo(b, a + b)\n",
    "\n",
    "fibo(1, 2)\n",
    "\n",
    "print(str(sum))"
   ],
   "cell_type": "code",
   "metadata": {},
   "execution_count": 4,
   "outputs": [
    {
     "output_type": "stream",
     "name": "stdout",
     "text": [
      "4613732\n"
     ]
    }
   ]
  },
  {
   "source": [
    "### Loop method (from overview)\n",
    "\n",
    "O(n) complexity."
   ],
   "cell_type": "markdown",
   "metadata": {}
  },
  {
   "cell_type": "code",
   "execution_count": 5,
   "metadata": {},
   "outputs": [
    {
     "output_type": "stream",
     "name": "stdout",
     "text": [
      "4613732\n"
     ]
    }
   ],
   "source": [
    "a = 1\n",
    "b = 2\n",
    "sum = 0\n",
    "\n",
    "while b < k:\n",
    "    if b % 2 is 0:\n",
    "        sum += b\n",
    "    c = a + b\n",
    "    a = b\n",
    "    b = c\n",
    "\n",
    "print(str(sum))"
   ]
  },
  {
   "source": [
    "### Every third number method (from overview)\n",
    "\n",
    "O(n) complexity, with 1/3 of the iteration compared to the loop method.\n",
    "\n",
    "**Key idea**: testing first few iterations\n",
    "\n",
    "fibonacci sequence = 1 1 <u>2</u> 3 5 <u>8</u> 13 21 <u>34</u> 55 89 <u>144</u> ...\n"
   ],
   "cell_type": "markdown",
   "metadata": {}
  },
  {
   "cell_type": "code",
   "execution_count": 6,
   "metadata": {},
   "outputs": [
    {
     "output_type": "stream",
     "name": "stdout",
     "text": [
      "4613732\n"
     ]
    }
   ],
   "source": [
    "sum = 0\n",
    "\n",
    "a = 1\n",
    "b = 1\n",
    "c = a + b\n",
    "\n",
    "while c < k:\n",
    "    sum += c  # Third iteration is always even number\n",
    "    a = b + c\n",
    "    b = c + a\n",
    "    c = a + b\n",
    "\n",
    "print(str(sum))"
   ]
  }
 ]
}