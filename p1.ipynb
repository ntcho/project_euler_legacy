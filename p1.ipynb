{
 "cells": [
  {
   "cell_type": "markdown",
   "id": "0cb5777e",
   "metadata": {},
   "source": [
    "# [Problem 1: Multiples of 3 and 5](https://projecteuler.net/problem=1)\n",
    "\n",
    "## Key Idea\n",
    "using mathematical concepts to reduce the iteration number"
   ]
  },
  {
   "cell_type": "markdown",
   "id": "74b3c82b",
   "metadata": {},
   "source": [
    "### Initial idea\n",
    "Complexity: O(1)"
   ]
  },
  {
   "cell_type": "code",
   "execution_count": 1,
   "id": "9a37da86",
   "metadata": {},
   "outputs": [
    {
     "name": "stdout",
     "output_type": "stream",
     "text": [
      "233168\n"
     ]
    }
   ],
   "source": [
    "# Target number used to limit iteration\n",
    "k = 999\n",
    "\n",
    "f = [3, 5, 15]  # factors\n",
    "n = [k//3, k//5, k//15]  # number of multiples\n",
    "max = [k - k%3, k - k%5, k - k%15]  # biggest multiples for each factor \n",
    "sum = []  # sum of each factors\n",
    "\n",
    "for i in range(3):\n",
    "    minmax = f[i] + max[i]\n",
    "    s = (n[i] // 2) * minmax\n",
    "\n",
    "    if n[i] % 2 is 1:\n",
    "        s += minmax // 2\n",
    "\n",
    "    sum.append(s)\n",
    "\n",
    "# print(f'{sum[0]} + {sum[1]} - {sum[2]} = {sum[0] + sum[1] - sum[2]}')\n",
    "print(str(sum[0] + sum[1] - sum[2]))"
   ]
  },
  {
   "cell_type": "markdown",
   "id": "f496ecd3",
   "metadata": {},
   "source": [
    "<div class=\"alert alert-warning\">\n",
    "<b>WARNING</b>: Since it's defined in the problem as 'below 1000', it shouldn't contain 1000.\n",
    "</div>\n",
    "\n",
    "***NOTE***: Clarify the range of the problem before diving into it."
   ]
  }
 ],
 "metadata": {
  "kernelspec": {
   "display_name": "Python 3",
   "language": "python",
   "name": "python3"
  },
  "language_info": {
   "codemirror_mode": {
    "name": "ipython",
    "version": 3
   },
   "file_extension": ".py",
   "mimetype": "text/x-python",
   "name": "python",
   "nbconvert_exporter": "python",
   "pygments_lexer": "ipython3",
   "version": "3.7.4"
  }
 },
 "nbformat": 4,
 "nbformat_minor": 5
}