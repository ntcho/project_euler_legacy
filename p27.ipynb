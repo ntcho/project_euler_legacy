{
 "cells": [
  {
   "cell_type": "markdown",
   "id": "0cb5777e",
   "metadata": {},
   "source": [
    "# [Problem 27: Quadratic primes](https://projecteuler.net/problem=27)\n",
    "\n",
    "## Key Idea\n"
   ]
  },
  {
   "cell_type": "markdown",
   "id": "74b3c82b",
   "metadata": {},
   "source": [
    "### Initial idea\n",
    "\n",
    "O(n³) complexity.\n",
    "\n",
    "Simplifying the formula $ n^2 + an + b $ into $ n (n + a) + b $, we can derive the following properties for the variables in the formula.\n",
    "\n",
    "1. Since $ n^2 + an + b $ must be prime, both $ n $ and $ b $, $ n + a $ and $ b $ must be prime.\n",
    "2. Since $ n^2 + an + b $ must be prime when $ n = 0 $, $ b $ must be prime.\n",
    "3. Since $ n $ is consecutive from 0, pair $ (0, b) $, $ (a, b) $, $ (1, b) $, $ (a + 1, b) $, ... must be prime accordingly.\n",
    "4. Since $ b $ must be prime and $ |b| <= 1000 $, possible values of $ b $ is prime numbers not exceeding 1000.\n",
    "\n",
    "#### Properties applied in code\n",
    "\n",
    "From property 1 and 3, the conditional statement `if n % b is 0 or (n + a) % b is 0` was derived and added in order to optimize iteration.\n",
    "\n",
    "From property 2, the iteration starts with `n = 1` because `b` is always prime since it's from the precalculated list of primes.\n",
    "\n",
    "From property 4, all primes not exceeding 1000 were calculated into `b_list`. Additionally, using `for i in range(3, 1000 + 1, 2): ...`, we excluded all even numbers from the iteration.\n",
    "\n",
    "#### Pseudocode\n",
    "\n",
    "```\n",
    "calculate all possible values of b\n",
    "\n",
    "for all b:\n",
    "    for n from 0:\n",
    "        for a from -999 to 999:\n",
    "            if n and n + a are prime to b:\n",
    "                check whether n + 1 and n + 1 + a are prime, n + 2 and n + 2 + a are prime ... \n",
    "                repeat until n + k or n + k + a are not prime\n",
    "```"
   ]
  },
  {
   "cell_type": "code",
   "execution_count": 20,
   "metadata": {
    "tags": []
   },
   "outputs": [
    {
     "output_type": "stream",
     "name": "stdout",
     "text": [
      "-59231\n"
     ]
    }
   ],
   "source": [
    "def is_prime(n):\n",
    "    for f in range(2, int(n ** 0.5)):\n",
    "        if n % f is 0:\n",
    "            return False\n",
    "    return True\n",
    "\n",
    "b_list = [2]\n",
    "\n",
    "for i in range(3, 1000 + 1, 2):\n",
    "    if is_prime(i):\n",
    "        b_list.append(i)\n",
    "\n",
    "max = 0\n",
    "coef_a = 0\n",
    "coef_b = 0\n",
    "\n",
    "for b in b_list:\n",
    "    for a in range(-999, 1000):\n",
    "        count = 1\n",
    "        n = 1\n",
    "\n",
    "        while n * (n + a) + b > 1:\n",
    "            if n % b is 0 or (n + a) % b is 0:\n",
    "                break  # not prime with b\n",
    "\n",
    "            if is_prime(n * (n + a) + b):\n",
    "                count += 1\n",
    "                n += 1\n",
    "            else:\n",
    "                break\n",
    "        \n",
    "        if count > max:\n",
    "            max = count\n",
    "            coef_a = a\n",
    "            coef_b = b\n",
    "\n",
    "print(coef_a * coef_b)\n"
   ]
  },
  {
   "source": [
    "**NOTE**: Add\n",
    "```python\n",
    "if n < 2:\n",
    "    return False\n",
    "```\n",
    "in `is_prime()` function in order to make it complete."
   ],
   "cell_type": "markdown",
   "metadata": {}
  }
 ],
 "metadata": {
  "kernelspec": {
   "name": "python374jvsc74a57bd0b39ab04170b6c60b52a31d4a7ab4d204539d261a537423dd50ae2a4297d5cc93",
   "display_name": "Python 3.7.4 32-bit"
  },
  "language_info": {
   "codemirror_mode": {
    "name": "ipython",
    "version": 3
   },
   "file_extension": ".py",
   "mimetype": "text/x-python",
   "name": "python",
   "nbconvert_exporter": "python",
   "pygments_lexer": "ipython3",
   "version": "3.7.4"
  }
 },
 "nbformat": 4,
 "nbformat_minor": 5
}