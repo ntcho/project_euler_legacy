{
 "metadata": {
  "language_info": {
   "codemirror_mode": {
    "name": "ipython",
    "version": 3
   },
   "file_extension": ".py",
   "mimetype": "text/x-python",
   "name": "python",
   "nbconvert_exporter": "python",
   "pygments_lexer": "ipython3",
   "version": "3.7.4"
  },
  "orig_nbformat": 2,
  "kernelspec": {
   "name": "python374jvsc74a57bd0b39ab04170b6c60b52a31d4a7ab4d204539d261a537423dd50ae2a4297d5cc93",
   "display_name": "Python 3.7.4 32-bit"
  }
 },
 "nbformat": 4,
 "nbformat_minor": 2,
 "cells": [
  {
   "source": [
    "# [Problem 26: Reciprocal cycles](https://projecteuler.net/problem=26)\n",
    "\n",
    "## Key Idea\n",
    "\n",
    "using the special relation between fraction and remainders\n",
    "\n",
    "avoiding brute forcing using mathematical properties"
   ],
   "cell_type": "markdown",
   "metadata": {}
  },
  {
   "source": [
    "### Initial idea\n",
    "\n",
    "O(n³) complexity.\n",
    "\n",
    "Brute force through every possible patterns (repeating decimals) with string comparison and check whether the pattern is found multiple times in the decimals."
   ],
   "cell_type": "markdown",
   "metadata": {}
  },
  {
   "cell_type": "code",
   "execution_count": 34,
   "metadata": {
    "tags": []
   },
   "outputs": [
    {
     "output_type": "stream",
     "name": "stdout",
     "text": [
      "983\n"
     ]
    }
   ],
   "source": [
    "from decimal import Decimal as d, getcontext\n",
    "\n",
    "getcontext().prec = 5000\n",
    "\n",
    "def get_pattern(s):\n",
    "    l = len(s)\n",
    "    for start_pos in range(l):\n",
    "        for pattern_length in range(1, l // 2 + 1):\n",
    "            # maximum pattern length is l // 2 because of the precision limitation\n",
    "            # can't determine whether it is repeating or not if it's longer than l // 2\n",
    "            pattern = s[start_pos:start_pos + pattern_length]\n",
    "\n",
    "            # print(f'\\nstart_pos = {start_pos}, pattern = \\'{pattern}\\'')\n",
    "\n",
    "            # compare the pattern to the rest of the string\n",
    "            found = None\n",
    "\n",
    "            for find_pos in range(start_pos + pattern_length, l, pattern_length):\n",
    "                compare = s[find_pos:find_pos + pattern_length]\n",
    "\n",
    "                # print(f'  comparing \\'{pattern}\\' and \\'{compare}\\'')\n",
    "\n",
    "                if pattern != compare:\n",
    "                    if found is not None and len(pattern) > len(compare):\n",
    "                        # pattern does match but goes over the precision limit\n",
    "                        found = pattern\n",
    "                    else:\n",
    "                        # pattern does not match\n",
    "                        found = None\n",
    "                        break\n",
    "                else:\n",
    "                    found = pattern\n",
    "            \n",
    "            if found is not None:\n",
    "                found = pattern\n",
    "                return found  # pattern match found\n",
    "    \n",
    "    # no pattern is found in the fraction\n",
    "    return ''\n",
    "\n",
    "max = [('', 0)]  # pattern, n (of 1/n)\n",
    "\n",
    "for i in range(1, 1000):\n",
    "    # d(1) / d(6) = 0.1666666666666666666666666667\n",
    "    #                 └   string stored in f    ┘\n",
    "    #           f = '166666666666666666666666666'\n",
    "    # trim first 2 characters and last 1 character if exists\n",
    "    f = str(d(1) / d(i))[2:-1]\n",
    "    \n",
    "    if len(f) < 20:\n",
    "        continue  # not reciprocal\n",
    "\n",
    "    result = get_pattern(f)\n",
    "    \n",
    "    if len(result) > len(max[0][0]):\n",
    "        max = [(result, i, f)]\n",
    "    elif len(result) == len(max[0][0]):\n",
    "        max.append((result, i, f))\n",
    "\n",
    "print(max[0][1])"
   ]
  },
  {
   "source": [
    "**NOTE**: Python's `count()` function could've been used in this case. No need to write a custom string comparator."
   ],
   "cell_type": "markdown",
   "metadata": {}
  },
  {
   "source": [
    "### Remainder method (from *Mike Zubko* in solution thread)\n",
    "\n",
    "O(n²) complexity. Key idea explained in [Repeating decimal from Wikipedia](https://en.wikipedia.org/wiki/Repeating_decimal#A_shortcut).\n",
    "\n",
    "> It follows that any repeating decimal with period n, and k digits after the decimal point that do not belong to the repeating part, can be written as a (not necessarily reduced) fraction whose denominator is (10^n − 1)10^k.\n",
    "\n",
    "> Conversely **the period of the repeating decimal of a fraction c/d will be (at most) the smallest number n such that 10ⁿ − 1 is divisible by d.**\n",
    "\n",
    "> For example, the fraction 2/7 has d = 7, and the smallest k that makes 10^k − 1 divisible by 7 is k = 6, because 999999 = 7 × 142857. The period of the fraction 2/7 is therefore 6.\n",
    "\n",
    "Using the fact the problem *only* requires the period of the repeating decimal (length of the pattern), we can derive the period ***without calculating the actual decimals***.\n",
    "\n",
    "***NOTE***: Look for *shortcuts* to the answer.\n",
    "\n",
    "By finding the smallest `p` for the given `i` with the following code, we can efficiently calculate the period of the repeating decimal.\n",
    "\n",
    "```python\n",
    "while p < i and (10 ** p) % i != 1:\n",
    "    p += 1\n",
    "```"
   ],
   "cell_type": "markdown",
   "metadata": {}
  },
  {
   "cell_type": "code",
   "execution_count": 38,
   "metadata": {
    "tags": []
   },
   "outputs": [
    {
     "output_type": "stream",
     "name": "stdout",
     "text": [
      "983\n"
     ]
    }
   ],
   "source": [
    "n = 0  # the n with the longest period\n",
    "max_period = 0\n",
    "\n",
    "for i in range(1, 1000, 2):  # step of 2 to skip every even number\n",
    "    if i % 5 != 0:  # skip every multiple of 5\n",
    "        p = 1  # period for current i\n",
    "        while p < i and (10 ** p) % i != 1:\n",
    "            p += 1\n",
    "        if p > max_period:\n",
    "            max_period = p\n",
    "            n = i\n",
    "\n",
    "print(ans)"
   ]
  }
 ]
}